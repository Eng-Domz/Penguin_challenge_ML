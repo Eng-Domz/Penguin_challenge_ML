{
 "cells": [
  {
   "cell_type": "code",
   "execution_count": 1,
   "id": "11a0c96b",
   "metadata": {},
   "outputs": [],
   "source": [
    "# Import Required Packages\n",
    "import pandas as pd\n",
    "import numpy as np\n",
    "import matplotlib.pyplot as plt\n",
    "from sklearn.cluster import KMeans\n",
    "from sklearn.preprocessing import StandardScaler"
   ]
  },
  {
   "cell_type": "code",
   "execution_count": 2,
   "id": "b89713fd",
   "metadata": {},
   "outputs": [],
   "source": [
    "# Loading and examining the dataset\n",
    "penguins_df = pd.read_csv(\"penguins.csv\")"
   ]
  },
  {
   "cell_type": "code",
   "execution_count": 3,
   "id": "9c7c0604",
   "metadata": {},
   "outputs": [],
   "source": [
    "# Remove non-numeric colomns (sex , index)\n",
    "numeric_columns = ['culmen_length_mm', 'culmen_depth_mm', 'flipper_length_mm', 'body_mass_g']\n",
    "df_numeric = penguins_df[numeric_columns].copy()\n",
    "df_clean = df_numeric.dropna()"
   ]
  },
  {
   "cell_type": "code",
   "execution_count": 4,
   "id": "743cc726",
   "metadata": {},
   "outputs": [],
   "source": [
    "#Feature scalling \n",
    "scaler = StandardScaler()\n",
    "df_scaled = scaler.fit_transform(df_clean)\n",
    "df_scaled = pd.DataFrame(df_scaled, columns=numeric_columns, index=df_clean.index)\n"
   ]
  },
  {
   "cell_type": "code",
   "execution_count": 5,
   "id": "09cc8792",
   "metadata": {},
   "outputs": [],
   "source": [
    "#Finding optimal k clusters by elbo method\n",
    "k_range = range(2,10)\n",
    "inertias = []\n",
    "\n",
    "for k in k_range:\n",
    "    kmeans_temp = KMeans(n_clusters=k , random_state=42 , n_init=10)\n",
    "    kmeans_temp.fit(df_scaled)\n",
    "    inertias.append(kmeans_temp.inertia_)\n",
    "\n",
    "inertia_diff = np.diff(inertias)  # First differences\n",
    "inertia_diff2 = np.diff(inertia_diff)  # Second differences (curvature)\n",
    "elbow_index = np.argmax(inertia_diff2) + 2  # +2 because we lost 2 points in double diff\n",
    "optimal_k = k_range[elbow_index] "
   ]
  },
  {
   "cell_type": "code",
   "execution_count": 6,
   "id": "510f5fea",
   "metadata": {},
   "outputs": [],
   "source": [
    "#Final clustring\n",
    "kmeans_final = KMeans(n_clusters=optimal_k , random_state=42 , n_init=10)\n",
    "cluster_labels = kmeans_final.fit_predict(df_scaled)\n",
    "\n",
    "# Add cluster labels to the original clean dataframe\n",
    "df_clean_with_clusters = df_clean.copy()\n",
    "df_clean_with_clusters['cluster'] = cluster_labels"
   ]
  },
  {
   "cell_type": "code",
   "execution_count": 7,
   "id": "50c34888",
   "metadata": {},
   "outputs": [
    {
     "name": "stdout",
     "output_type": "stream",
     "text": [
      "         culmen_length_mm  culmen_depth_mm  flipper_length_mm  body_mass_g\n",
      "cluster                                                                   \n",
      "0               49.792982        15.738596         221.912281  5519.736842\n",
      "1               38.330233        18.101550         188.651163  3590.697674\n",
      "2               45.522581        14.314516         212.935484  4699.596774\n",
      "3               47.735714        18.751190         196.869048  3897.023810\n"
     ]
    }
   ],
   "source": [
    "#stat_penguin dataframe\n",
    "stat_penguins = df_clean_with_clusters.groupby('cluster')[numeric_columns].mean()\n",
    "\n",
    "print(stat_penguins)"
   ]
  }
 ],
 "metadata": {
  "colab": {
   "name": "Welcome to DataCamp Workspaces.ipynb",
   "provenance": []
  },
  "editor": "DataLab",
  "kernelspec": {
   "display_name": "penguin",
   "language": "python",
   "name": "python3"
  },
  "language_info": {
   "codemirror_mode": {
    "name": "ipython",
    "version": 3
   },
   "file_extension": ".py",
   "mimetype": "text/x-python",
   "name": "python",
   "nbconvert_exporter": "python",
   "pygments_lexer": "ipython3",
   "version": "3.13.7"
  }
 },
 "nbformat": 4,
 "nbformat_minor": 5
}
